{
 "cells": [
  {
   "cell_type": "markdown",
   "metadata": {},
   "source": [
    "## Identificazione dipendenti \"a rischio abbandono\""
   ]
  },
  {
   "cell_type": "code",
   "execution_count": 1,
   "metadata": {},
   "outputs": [],
   "source": [
    "import numpy as np\n",
    "import pandas as pd\n",
    "\n",
    "import tensorflow as tf\n",
    "import tensorflow.keras.backend as K\n",
    "\n",
    "import matplotlib.pyplot as plt\n",
    "\n",
    "from sklearn.preprocessing import StandardScaler\n",
    "from sklearn.model_selection import KFold\n",
    "from sklearn.model_selection import train_test_split\n",
    "\n",
    "import time\n",
    "\n",
    "from numpy.random import seed"
   ]
  },
  {
   "cell_type": "code",
   "execution_count": 2,
   "metadata": {},
   "outputs": [
    {
     "name": "stdout",
     "output_type": "stream",
     "text": [
      "2.2.0\n"
     ]
    }
   ],
   "source": [
    "# controllo la versione di Tensorflow\n",
    "print(tf.__version__)"
   ]
  },
  {
   "cell_type": "code",
   "execution_count": 31,
   "metadata": {},
   "outputs": [],
   "source": [
    "# to remove some warnings\n",
    "\n",
    "# TF2 way to reduce logging\n",
    "# this remove also INFO, verify if needed\n",
    "import logging\n",
    "logger = tf.get_logger()\n",
    "logger.setLevel(logging.ERROR)"
   ]
  },
  {
   "cell_type": "code",
   "execution_count": 45,
   "metadata": {},
   "outputs": [
    {
     "name": "stdout",
     "output_type": "stream",
     "text": [
      "Num GPUs Available:  1\n",
      "Standard strategy for GPU...\n",
      "Replicas: 1\n"
     ]
    }
   ],
   "source": [
    "# faccio i settaggi necessari per l'ambiente con GPU a disposizione\n",
    "#\n",
    "\n",
    "DEVICE = 'GPU'\n",
    "\n",
    "if DEVICE == \"GPU\":\n",
    "    \n",
    "    # controllo quante GPU ho a disposizione\n",
    "    # per settare la corretta \"strategia\" (distributed, ?)\n",
    "    n_gpu = len(tf.config.experimental.list_physical_devices('GPU'))\n",
    "    print(\"Num GPUs Available: \", n_gpu)\n",
    "    \n",
    "    if n_gpu > 1:\n",
    "        print(\"Using strategy for multiple GPU\")\n",
    "        strategy = tf.distribute.MirroredStrategy()\n",
    "    else:\n",
    "        print('Standard strategy for GPU...')\n",
    "        strategy = tf.distribute.get_strategy()\n",
    "\n",
    "AUTO     = tf.data.experimental.AUTOTUNE\n",
    "REPLICAS = strategy.num_replicas_in_sync\n",
    "\n",
    "print(f'Replicas: {REPLICAS}')"
   ]
  },
  {
   "cell_type": "code",
   "execution_count": 4,
   "metadata": {},
   "outputs": [
    {
     "data": {
      "text/html": [
       "<div>\n",
       "<style scoped>\n",
       "    .dataframe tbody tr th:only-of-type {\n",
       "        vertical-align: middle;\n",
       "    }\n",
       "\n",
       "    .dataframe tbody tr th {\n",
       "        vertical-align: top;\n",
       "    }\n",
       "\n",
       "    .dataframe thead th {\n",
       "        text-align: right;\n",
       "    }\n",
       "</style>\n",
       "<table border=\"1\" class=\"dataframe\">\n",
       "  <thead>\n",
       "    <tr style=\"text-align: right;\">\n",
       "      <th></th>\n",
       "      <th>Age</th>\n",
       "      <th>Attrition</th>\n",
       "      <th>TravelForWork</th>\n",
       "      <th>SalaryLevel</th>\n",
       "      <th>JobFunction</th>\n",
       "      <th>CommuteLength</th>\n",
       "      <th>EducationalLevel</th>\n",
       "      <th>EducationField</th>\n",
       "      <th>Directs</th>\n",
       "      <th>EmployeeNumber</th>\n",
       "      <th>...</th>\n",
       "      <th>WeeklyWorkedHours</th>\n",
       "      <th>StockOptionLevel</th>\n",
       "      <th>YearsinIndustry</th>\n",
       "      <th>TrainingTimesLastYear</th>\n",
       "      <th>WorkLifeBalance</th>\n",
       "      <th>YearsOnJob</th>\n",
       "      <th>YearsAtCurrentLevel</th>\n",
       "      <th>YearsSinceLastPromotion</th>\n",
       "      <th>YearsWithCurrManager</th>\n",
       "      <th>name</th>\n",
       "    </tr>\n",
       "  </thead>\n",
       "  <tbody>\n",
       "    <tr>\n",
       "      <th>0</th>\n",
       "      <td>42</td>\n",
       "      <td>Yes</td>\n",
       "      <td>infrequent</td>\n",
       "      <td>5054</td>\n",
       "      <td>Product Management</td>\n",
       "      <td>2</td>\n",
       "      <td>L2</td>\n",
       "      <td>Life Sciences</td>\n",
       "      <td>1</td>\n",
       "      <td>1</td>\n",
       "      <td>...</td>\n",
       "      <td>80</td>\n",
       "      <td>0</td>\n",
       "      <td>8</td>\n",
       "      <td>0</td>\n",
       "      <td>1</td>\n",
       "      <td>6</td>\n",
       "      <td>4</td>\n",
       "      <td>0</td>\n",
       "      <td>5</td>\n",
       "      <td>Tracy Moore</td>\n",
       "    </tr>\n",
       "    <tr>\n",
       "      <th>1</th>\n",
       "      <td>50</td>\n",
       "      <td>No</td>\n",
       "      <td>often</td>\n",
       "      <td>1278</td>\n",
       "      <td>Software Developer</td>\n",
       "      <td>9</td>\n",
       "      <td>L1</td>\n",
       "      <td>Life Sciences</td>\n",
       "      <td>1</td>\n",
       "      <td>2</td>\n",
       "      <td>...</td>\n",
       "      <td>80</td>\n",
       "      <td>1</td>\n",
       "      <td>10</td>\n",
       "      <td>3</td>\n",
       "      <td>3</td>\n",
       "      <td>10</td>\n",
       "      <td>7</td>\n",
       "      <td>1</td>\n",
       "      <td>7</td>\n",
       "      <td>Andrew Hoover</td>\n",
       "    </tr>\n",
       "    <tr>\n",
       "      <th>2</th>\n",
       "      <td>38</td>\n",
       "      <td>Yes</td>\n",
       "      <td>infrequent</td>\n",
       "      <td>6296</td>\n",
       "      <td>Software Developer</td>\n",
       "      <td>3</td>\n",
       "      <td>L2</td>\n",
       "      <td>Other</td>\n",
       "      <td>1</td>\n",
       "      <td>4</td>\n",
       "      <td>...</td>\n",
       "      <td>80</td>\n",
       "      <td>0</td>\n",
       "      <td>7</td>\n",
       "      <td>3</td>\n",
       "      <td>3</td>\n",
       "      <td>0</td>\n",
       "      <td>0</td>\n",
       "      <td>0</td>\n",
       "      <td>0</td>\n",
       "      <td>Julie Bell</td>\n",
       "    </tr>\n",
       "    <tr>\n",
       "      <th>3</th>\n",
       "      <td>34</td>\n",
       "      <td>No</td>\n",
       "      <td>often</td>\n",
       "      <td>6384</td>\n",
       "      <td>Software Developer</td>\n",
       "      <td>4</td>\n",
       "      <td>L4</td>\n",
       "      <td>Life Sciences</td>\n",
       "      <td>1</td>\n",
       "      <td>5</td>\n",
       "      <td>...</td>\n",
       "      <td>80</td>\n",
       "      <td>0</td>\n",
       "      <td>8</td>\n",
       "      <td>3</td>\n",
       "      <td>3</td>\n",
       "      <td>8</td>\n",
       "      <td>7</td>\n",
       "      <td>3</td>\n",
       "      <td>0</td>\n",
       "      <td>Thomas Adams</td>\n",
       "    </tr>\n",
       "    <tr>\n",
       "      <th>4</th>\n",
       "      <td>28</td>\n",
       "      <td>No</td>\n",
       "      <td>infrequent</td>\n",
       "      <td>2710</td>\n",
       "      <td>Software Developer</td>\n",
       "      <td>3</td>\n",
       "      <td>L1</td>\n",
       "      <td>Medical</td>\n",
       "      <td>1</td>\n",
       "      <td>7</td>\n",
       "      <td>...</td>\n",
       "      <td>80</td>\n",
       "      <td>1</td>\n",
       "      <td>6</td>\n",
       "      <td>3</td>\n",
       "      <td>3</td>\n",
       "      <td>2</td>\n",
       "      <td>2</td>\n",
       "      <td>2</td>\n",
       "      <td>2</td>\n",
       "      <td>Johnathan Burnett</td>\n",
       "    </tr>\n",
       "  </tbody>\n",
       "</table>\n",
       "<p>5 rows × 36 columns</p>\n",
       "</div>"
      ],
      "text/plain": [
       "   Age Attrition TravelForWork  SalaryLevel         JobFunction  \\\n",
       "0   42       Yes    infrequent         5054  Product Management   \n",
       "1   50        No         often         1278  Software Developer   \n",
       "2   38       Yes    infrequent         6296  Software Developer   \n",
       "3   34        No         often         6384  Software Developer   \n",
       "4   28        No    infrequent         2710  Software Developer   \n",
       "\n",
       "   CommuteLength EducationalLevel EducationField  Directs  EmployeeNumber  \\\n",
       "0              2               L2  Life Sciences        1               1   \n",
       "1              9               L1  Life Sciences        1               2   \n",
       "2              3               L2          Other        1               4   \n",
       "3              4               L4  Life Sciences        1               5   \n",
       "4              3               L1        Medical        1               7   \n",
       "\n",
       "   ...  WeeklyWorkedHours StockOptionLevel  YearsinIndustry  \\\n",
       "0  ...                 80                0                8   \n",
       "1  ...                 80                1               10   \n",
       "2  ...                 80                0                7   \n",
       "3  ...                 80                0                8   \n",
       "4  ...                 80                1                6   \n",
       "\n",
       "   TrainingTimesLastYear  WorkLifeBalance YearsOnJob  YearsAtCurrentLevel  \\\n",
       "0                      0                1          6                    4   \n",
       "1                      3                3         10                    7   \n",
       "2                      3                3          0                    0   \n",
       "3                      3                3          8                    7   \n",
       "4                      3                3          2                    2   \n",
       "\n",
       "  YearsSinceLastPromotion  YearsWithCurrManager               name  \n",
       "0                       0                     5        Tracy Moore  \n",
       "1                       1                     7      Andrew Hoover  \n",
       "2                       0                     0         Julie Bell  \n",
       "3                       3                     0       Thomas Adams  \n",
       "4                       2                     2  Johnathan Burnett  \n",
       "\n",
       "[5 rows x 36 columns]"
      ]
     },
     "execution_count": 4,
     "metadata": {},
     "output_type": "execute_result"
    }
   ],
   "source": [
    "# carico il file dati\n",
    "\n",
    "FILE_ORIG = '/home/datascience/ads-examples/oracle_data/orcl_attrition.csv'\n",
    "\n",
    "dati_orig = pd.read_csv(FILE_ORIG) \n",
    "\n",
    "dati_orig.head()"
   ]
  },
  {
   "cell_type": "code",
   "execution_count": 5,
   "metadata": {},
   "outputs": [
    {
     "data": {
      "text/plain": [
       "Index(['Age', 'Attrition', 'TravelForWork', 'SalaryLevel', 'JobFunction',\n",
       "       'CommuteLength', 'EducationalLevel', 'EducationField', 'Directs',\n",
       "       'EmployeeNumber', 'EnvironmentSatisfaction', 'Gender', 'HourlyRate',\n",
       "       'JobInvolvement', 'JobLevel', 'JobRole', 'JobSatisfaction',\n",
       "       'MaritalStatus', 'MonthlyIncome', 'MonthlyRate', 'NumCompaniesWorked',\n",
       "       'Over18', 'OverTime', 'PercentSalaryHike', 'PerformanceRating',\n",
       "       'RelationshipSatisfaction', 'WeeklyWorkedHours', 'StockOptionLevel',\n",
       "       'YearsinIndustry', 'TrainingTimesLastYear', 'WorkLifeBalance',\n",
       "       'YearsOnJob', 'YearsAtCurrentLevel', 'YearsSinceLastPromotion',\n",
       "       'YearsWithCurrManager', 'name'],\n",
       "      dtype='object')"
      ]
     },
     "execution_count": 5,
     "metadata": {},
     "output_type": "execute_result"
    }
   ],
   "source": [
    "dati_orig.columns"
   ]
  },
  {
   "cell_type": "code",
   "execution_count": 6,
   "metadata": {},
   "outputs": [],
   "source": [
    "# elimino alcune colonne non utili per l'addestramento del modello\n",
    "columns_to_drop = ['EmployeeNumber','name','Over18']\n",
    "\n",
    "dati = dati_orig.drop(columns_to_drop, axis = 1)"
   ]
  },
  {
   "cell_type": "code",
   "execution_count": 7,
   "metadata": {},
   "outputs": [
    {
     "name": "stdout",
     "output_type": "stream",
     "text": [
      "<class 'pandas.core.frame.DataFrame'>\n",
      "RangeIndex: 1470 entries, 0 to 1469\n",
      "Data columns (total 33 columns):\n",
      "Age                         1470 non-null int64\n",
      "Attrition                   1470 non-null object\n",
      "TravelForWork               1470 non-null object\n",
      "SalaryLevel                 1470 non-null int64\n",
      "JobFunction                 1470 non-null object\n",
      "CommuteLength               1470 non-null int64\n",
      "EducationalLevel            1470 non-null object\n",
      "EducationField              1470 non-null object\n",
      "Directs                     1470 non-null int64\n",
      "EnvironmentSatisfaction     1470 non-null int64\n",
      "Gender                      1470 non-null object\n",
      "HourlyRate                  1470 non-null int64\n",
      "JobInvolvement              1470 non-null int64\n",
      "JobLevel                    1470 non-null int64\n",
      "JobRole                     1470 non-null object\n",
      "JobSatisfaction             1470 non-null int64\n",
      "MaritalStatus               1470 non-null object\n",
      "MonthlyIncome               1470 non-null int64\n",
      "MonthlyRate                 1470 non-null int64\n",
      "NumCompaniesWorked          1470 non-null int64\n",
      "OverTime                    1470 non-null object\n",
      "PercentSalaryHike           1470 non-null int64\n",
      "PerformanceRating           1470 non-null int64\n",
      "RelationshipSatisfaction    1470 non-null int64\n",
      "WeeklyWorkedHours           1470 non-null int64\n",
      "StockOptionLevel            1470 non-null int64\n",
      "YearsinIndustry             1470 non-null int64\n",
      "TrainingTimesLastYear       1470 non-null int64\n",
      "WorkLifeBalance             1470 non-null int64\n",
      "YearsOnJob                  1470 non-null int64\n",
      "YearsAtCurrentLevel         1470 non-null int64\n",
      "YearsSinceLastPromotion     1470 non-null int64\n",
      "YearsWithCurrManager        1470 non-null int64\n",
      "dtypes: int64(24), object(9)\n",
      "memory usage: 379.1+ KB\n"
     ]
    }
   ],
   "source": [
    "dati.info()"
   ]
  },
  {
   "cell_type": "code",
   "execution_count": 44,
   "metadata": {},
   "outputs": [
    {
     "data": {
      "image/png": "[encoded data removed]",
      "text/plain": [
       "<Figure size 432x288 with 1 Axes>"
      ]
     },
     "metadata": {
      "needs_background": "light"
     },
     "output_type": "display_data"
    }
   ],
   "source": [
    "# esamino la percentuale di attrition\n",
    "dati['Attrition'].hist();"
   ]
  },
  {
   "cell_type": "code",
   "execution_count": null,
   "metadata": {},
   "outputs": [],
   "source": [
    "# il dataset è sbilanciato, relativamente pochi attrition\n",
    "# tenuto conto che vogliamo prevedere chi è a rsichio attrition è una cosa da gestire (vedi Focal Loss)"
   ]
  },
  {
   "cell_type": "code",
   "execution_count": 8,
   "metadata": {},
   "outputs": [],
   "source": [
    "# devo provevedere a codificare le colonne object nella lista precedente: TravelForWork, JobFunction, EducationalLevel, EducationField, \n",
    "# Gender, JobRole, MaritalStatus, OverTime\n",
    "# devo ricorrere ad una codifica one-hot\n",
    "\n",
    "# valori multipli\n",
    "columns_to_code_multiple = ['TravelForWork', 'JobFunction', 'EducationalLevel', 'EducationField', 'JobRole', 'MaritalStatus']\n",
    "# due soli valori\n",
    "columns_to_code_double = ['Attrition', 'OverTime', 'Gender']\n",
    "\n",
    "dati_coded = pd.get_dummies(dati, columns = columns_to_code_multiple)\n",
    "dati_coded = pd.get_dummies(dati_coded, columns = columns_to_code_double, drop_first=True)"
   ]
  },
  {
   "cell_type": "code",
   "execution_count": 9,
   "metadata": {},
   "outputs": [
    {
     "data": {
      "text/html": [
       "<div>\n",
       "<style scoped>\n",
       "    .dataframe tbody tr th:only-of-type {\n",
       "        vertical-align: middle;\n",
       "    }\n",
       "\n",
       "    .dataframe tbody tr th {\n",
       "        vertical-align: top;\n",
       "    }\n",
       "\n",
       "    .dataframe thead th {\n",
       "        text-align: right;\n",
       "    }\n",
       "</style>\n",
       "<table border=\"1\" class=\"dataframe\">\n",
       "  <thead>\n",
       "    <tr style=\"text-align: right;\">\n",
       "      <th></th>\n",
       "      <th>Age</th>\n",
       "      <th>SalaryLevel</th>\n",
       "      <th>CommuteLength</th>\n",
       "      <th>Directs</th>\n",
       "      <th>EnvironmentSatisfaction</th>\n",
       "      <th>HourlyRate</th>\n",
       "      <th>JobInvolvement</th>\n",
       "      <th>JobLevel</th>\n",
       "      <th>JobSatisfaction</th>\n",
       "      <th>MonthlyIncome</th>\n",
       "      <th>...</th>\n",
       "      <th>JobRole_Research Director</th>\n",
       "      <th>JobRole_Research Scientist</th>\n",
       "      <th>JobRole_Sales Executive</th>\n",
       "      <th>JobRole_Sales Representative</th>\n",
       "      <th>MaritalStatus_Divorced</th>\n",
       "      <th>MaritalStatus_Married</th>\n",
       "      <th>MaritalStatus_Single</th>\n",
       "      <th>Attrition_Yes</th>\n",
       "      <th>OverTime_Yes</th>\n",
       "      <th>Gender_Male</th>\n",
       "    </tr>\n",
       "  </thead>\n",
       "  <tbody>\n",
       "    <tr>\n",
       "      <th>0</th>\n",
       "      <td>42</td>\n",
       "      <td>5054</td>\n",
       "      <td>2</td>\n",
       "      <td>1</td>\n",
       "      <td>2</td>\n",
       "      <td>94</td>\n",
       "      <td>3</td>\n",
       "      <td>2</td>\n",
       "      <td>4</td>\n",
       "      <td>5993</td>\n",
       "      <td>...</td>\n",
       "      <td>0</td>\n",
       "      <td>0</td>\n",
       "      <td>1</td>\n",
       "      <td>0</td>\n",
       "      <td>0</td>\n",
       "      <td>0</td>\n",
       "      <td>1</td>\n",
       "      <td>1</td>\n",
       "      <td>1</td>\n",
       "      <td>0</td>\n",
       "    </tr>\n",
       "    <tr>\n",
       "      <th>1</th>\n",
       "      <td>50</td>\n",
       "      <td>1278</td>\n",
       "      <td>9</td>\n",
       "      <td>1</td>\n",
       "      <td>3</td>\n",
       "      <td>61</td>\n",
       "      <td>2</td>\n",
       "      <td>2</td>\n",
       "      <td>2</td>\n",
       "      <td>5130</td>\n",
       "      <td>...</td>\n",
       "      <td>0</td>\n",
       "      <td>1</td>\n",
       "      <td>0</td>\n",
       "      <td>0</td>\n",
       "      <td>0</td>\n",
       "      <td>1</td>\n",
       "      <td>0</td>\n",
       "      <td>0</td>\n",
       "      <td>0</td>\n",
       "      <td>1</td>\n",
       "    </tr>\n",
       "    <tr>\n",
       "      <th>2</th>\n",
       "      <td>38</td>\n",
       "      <td>6296</td>\n",
       "      <td>3</td>\n",
       "      <td>1</td>\n",
       "      <td>4</td>\n",
       "      <td>92</td>\n",
       "      <td>2</td>\n",
       "      <td>1</td>\n",
       "      <td>3</td>\n",
       "      <td>2090</td>\n",
       "      <td>...</td>\n",
       "      <td>0</td>\n",
       "      <td>0</td>\n",
       "      <td>0</td>\n",
       "      <td>0</td>\n",
       "      <td>0</td>\n",
       "      <td>0</td>\n",
       "      <td>1</td>\n",
       "      <td>1</td>\n",
       "      <td>1</td>\n",
       "      <td>1</td>\n",
       "    </tr>\n",
       "    <tr>\n",
       "      <th>3</th>\n",
       "      <td>34</td>\n",
       "      <td>6384</td>\n",
       "      <td>4</td>\n",
       "      <td>1</td>\n",
       "      <td>4</td>\n",
       "      <td>56</td>\n",
       "      <td>3</td>\n",
       "      <td>1</td>\n",
       "      <td>3</td>\n",
       "      <td>2909</td>\n",
       "      <td>...</td>\n",
       "      <td>0</td>\n",
       "      <td>1</td>\n",
       "      <td>0</td>\n",
       "      <td>0</td>\n",
       "      <td>0</td>\n",
       "      <td>1</td>\n",
       "      <td>0</td>\n",
       "      <td>0</td>\n",
       "      <td>1</td>\n",
       "      <td>0</td>\n",
       "    </tr>\n",
       "    <tr>\n",
       "      <th>4</th>\n",
       "      <td>28</td>\n",
       "      <td>2710</td>\n",
       "      <td>3</td>\n",
       "      <td>1</td>\n",
       "      <td>1</td>\n",
       "      <td>40</td>\n",
       "      <td>3</td>\n",
       "      <td>1</td>\n",
       "      <td>2</td>\n",
       "      <td>3468</td>\n",
       "      <td>...</td>\n",
       "      <td>0</td>\n",
       "      <td>0</td>\n",
       "      <td>0</td>\n",
       "      <td>0</td>\n",
       "      <td>0</td>\n",
       "      <td>1</td>\n",
       "      <td>0</td>\n",
       "      <td>0</td>\n",
       "      <td>0</td>\n",
       "      <td>1</td>\n",
       "    </tr>\n",
       "  </tbody>\n",
       "</table>\n",
       "<p>5 rows × 56 columns</p>\n",
       "</div>"
      ],
      "text/plain": [
       "   Age  SalaryLevel  CommuteLength  Directs  EnvironmentSatisfaction  \\\n",
       "0   42         5054              2        1                        2   \n",
       "1   50         1278              9        1                        3   \n",
       "2   38         6296              3        1                        4   \n",
       "3   34         6384              4        1                        4   \n",
       "4   28         2710              3        1                        1   \n",
       "\n",
       "   HourlyRate  JobInvolvement  JobLevel  JobSatisfaction  MonthlyIncome  ...  \\\n",
       "0          94               3         2                4           5993  ...   \n",
       "1          61               2         2                2           5130  ...   \n",
       "2          92               2         1                3           2090  ...   \n",
       "3          56               3         1                3           2909  ...   \n",
       "4          40               3         1                2           3468  ...   \n",
       "\n",
       "   JobRole_Research Director  JobRole_Research Scientist  \\\n",
       "0                          0                           0   \n",
       "1                          0                           1   \n",
       "2                          0                           0   \n",
       "3                          0                           1   \n",
       "4                          0                           0   \n",
       "\n",
       "   JobRole_Sales Executive  JobRole_Sales Representative  \\\n",
       "0                        1                             0   \n",
       "1                        0                             0   \n",
       "2                        0                             0   \n",
       "3                        0                             0   \n",
       "4                        0                             0   \n",
       "\n",
       "   MaritalStatus_Divorced  MaritalStatus_Married  MaritalStatus_Single  \\\n",
       "0                       0                      0                     1   \n",
       "1                       0                      1                     0   \n",
       "2                       0                      0                     1   \n",
       "3                       0                      1                     0   \n",
       "4                       0                      1                     0   \n",
       "\n",
       "   Attrition_Yes  OverTime_Yes  Gender_Male  \n",
       "0              1             1            0  \n",
       "1              0             0            1  \n",
       "2              1             1            1  \n",
       "3              0             1            0  \n",
       "4              0             0            1  \n",
       "\n",
       "[5 rows x 56 columns]"
      ]
     },
     "execution_count": 9,
     "metadata": {},
     "output_type": "execute_result"
    }
   ],
   "source": [
    "# verifico\n",
    "dati_coded.head()"
   ]
  },
  {
   "cell_type": "code",
   "execution_count": 10,
   "metadata": {},
   "outputs": [],
   "source": [
    "# OK... per poter lavorare con le NN devo avere tutti valori numerici"
   ]
  },
  {
   "cell_type": "code",
   "execution_count": 11,
   "metadata": {},
   "outputs": [
    {
     "data": {
      "text/plain": [
       "(1470, 56)"
      ]
     },
     "execution_count": 11,
     "metadata": {},
     "output_type": "execute_result"
    }
   ],
   "source": [
    "dati_coded.shape"
   ]
  },
  {
   "cell_type": "code",
   "execution_count": 12,
   "metadata": {},
   "outputs": [],
   "source": [
    "# ora metto da parte (hold-out) un dataset di test (10%)\n",
    "\n",
    "# separo in X ed y\n",
    "# y: la \"label da prevedere\"\n",
    "y = dati_coded['Attrition_Yes'].values\n",
    "\n",
    "df_x = dati_coded.drop('Attrition_Yes', axis = 1)\n",
    "\n",
    "# X: le features\n",
    "X = df_x.values"
   ]
  },
  {
   "cell_type": "code",
   "execution_count": 13,
   "metadata": {},
   "outputs": [],
   "source": [
    "# splitto per mettere da parte il dataset di test\n",
    "X_dev, X_test, y_dev, y_test = train_test_split(X, y, test_size=0.1, random_state=1234)"
   ]
  },
  {
   "cell_type": "code",
   "execution_count": 14,
   "metadata": {},
   "outputs": [
    {
     "data": {
      "text/plain": [
       "(147, 55)"
      ]
     },
     "execution_count": 14,
     "metadata": {},
     "output_type": "execute_result"
    }
   ],
   "source": [
    "X_test.shape\n",
    "\n",
    "# 147 campioni nel dataset di test, 55 feature"
   ]
  },
  {
   "cell_type": "code",
   "execution_count": 15,
   "metadata": {},
   "outputs": [],
   "source": [
    "# devo provvedere a normalizzare. Le NN funzionano bene se gli input sono tutti valori piccoli, intorno allo zero.\n",
    "# uso ancora scikit learn\n",
    "sc = StandardScaler()\n",
    "\n",
    "X_dev_scaled = sc.fit_transform(X_dev)\n",
    "\n",
    "# X_dev_scaled è il dataset per il training, normalizzato (media 0 std 1)"
   ]
  },
  {
   "cell_type": "code",
   "execution_count": 16,
   "metadata": {},
   "outputs": [
    {
     "data": {
      "text/plain": [
       "array([[-0.64804811,  0.64381795,  1.82356601, ...,  1.45359595,\n",
       "        -0.62894326, -1.22513068],\n",
       "       [ 0.34160289, -0.67750469, -1.02218455, ..., -0.68794908,\n",
       "        -0.62894326,  0.81623946],\n",
       "       [-0.86797056, -0.89844716, -0.15608655, ..., -0.68794908,\n",
       "        -0.62894326, -1.22513068],\n",
       "       ...,\n",
       "       [-0.86797056, -0.56811651,  1.32865287, ..., -0.68794908,\n",
       "        -0.62894326,  0.81623946],\n",
       "       [ 1.00137022, -0.58761143, -0.27981484, ..., -0.68794908,\n",
       "        -0.62894326,  0.81623946],\n",
       "       [-1.74766034,  0.44995176, -1.02218455, ...,  1.45359595,\n",
       "         1.58996855, -1.22513068]])"
      ]
     },
     "execution_count": 16,
     "metadata": {},
     "output_type": "execute_result"
    }
   ],
   "source": [
    "X_dev_scaled"
   ]
  },
  {
   "cell_type": "code",
   "execution_count": 17,
   "metadata": {},
   "outputs": [],
   "source": [
    "# introduco la loss function che sarà utilizzata per gestire lo sbilanciamento (solo il 10% è in attrition): focal loss\n",
    "def focal_loss(y_true, y_pred):\n",
    "    # iper-parametri, initial value\n",
    "    gamma = 2.0\n",
    "    alpha = 0.75\n",
    "    pt_1 = tf.where(tf.equal(y_true, 1), y_pred, tf.ones_like(y_pred))\n",
    "    pt_0 = tf.where(tf.equal(y_true, 0), y_pred, tf.zeros_like(y_pred))\n",
    "    \n",
    "    return -K.mean(alpha*K.pow(1.-pt_1, gamma)*K.log(pt_1))-K.mean((1-alpha)*K.pow( pt_0, gamma)*K.log(1.-pt_0))"
   ]
  },
  {
   "cell_type": "code",
   "execution_count": 18,
   "metadata": {},
   "outputs": [],
   "source": [
    "# costruisco il modello di NN con Keras\n",
    "\n",
    "# il numero di neuroni per layer è parametruzzato, perchè ho effettuato ottimizzazione con Grid Search\n",
    "# vedi in fondo al Notebook\n",
    "\n",
    "# sempre per lo sbilanciamento ho scelto di seguire durante il training l'AUC e non l'accuracy\n",
    "# (è facile ottenere acc > 90%)\n",
    "\n",
    "def build_model(n1, n2):\n",
    "    model = tf.keras.Sequential()\n",
    "    \n",
    "    model.add(tf.keras.layers.Dense(n1, activation=\"relu\", input_shape=(55,) ))\n",
    "    model.add(tf.keras.layers.Dropout(0.5))\n",
    "    model.add(tf.keras.layers.Dense(n2, activation=\"relu\"))\n",
    "    model.add(tf.keras.layers.Dropout(0.5))\n",
    "    model.add(tf.keras.layers.Dense(1, activation=\"sigmoid\"))\n",
    "    \n",
    "    model.compile(optimizer='adam', loss=[focal_loss], metrics=['AUC'])\n",
    "    \n",
    "    return model"
   ]
  },
  {
   "cell_type": "code",
   "execution_count": 19,
   "metadata": {},
   "outputs": [
    {
     "name": "stdout",
     "output_type": "stream",
     "text": [
      "Model: \"sequential\"\n",
      "_________________________________________________________________\n",
      "Layer (type)                 Output Shape              Param #   \n",
      "=================================================================\n",
      "dense (Dense)                (None, 56)                3136      \n",
      "_________________________________________________________________\n",
      "dropout (Dropout)            (None, 56)                0         \n",
      "_________________________________________________________________\n",
      "dense_1 (Dense)              (None, 40)                2280      \n",
      "_________________________________________________________________\n",
      "dropout_1 (Dropout)          (None, 40)                0         \n",
      "_________________________________________________________________\n",
      "dense_2 (Dense)              (None, 1)                 41        \n",
      "=================================================================\n",
      "Total params: 5,457\n",
      "Trainable params: 5,457\n",
      "Non-trainable params: 0\n",
      "_________________________________________________________________\n"
     ]
    }
   ],
   "source": [
    "# diamo un'occhiata al modello\n",
    "model = build_model(56, 40)\n",
    "\n",
    "model.summary()"
   ]
  },
  {
   "cell_type": "code",
   "execution_count": 20,
   "metadata": {},
   "outputs": [
    {
     "name": "stdout",
     "output_type": "stream",
     "text": [
      "WARNING:tensorflow:From /opt/conda/lib/python3.6/site-packages/tensorflow/python/ops/resource_variable_ops.py:1817: calling BaseResourceVariable.__init__ (from tensorflow.python.ops.resource_variable_ops) with constraint is deprecated and will be removed in a future version.\n",
      "Instructions for updating:\n",
      "If using Keras pass *_constraint arguments to layers.\n"
     ]
    }
   ],
   "source": [
    "# facciamo una prima prova di training per vedere come va\n",
    "\n",
    "# 56, 40 sono i valori ottenuti dalla Grid Search\n",
    "with strategy.scope():\n",
    "        model = build_model(56, 40)\n",
    "        \n",
    "history = model.fit(X_dev_scaled, y_dev, epochs = 40, verbose = 0, validation_split = 0.2)"
   ]
  },
  {
   "cell_type": "code",
   "execution_count": 23,
   "metadata": {},
   "outputs": [],
   "source": [
    "def plot_loss(hist):\n",
    "    plt.figure(figsize=(14,6))\n",
    "    \n",
    "    plt.plot(hist.history['loss'][10:], label='Training loss')\n",
    "    plt.plot(hist.history['val_loss'][10:], label='Validation loss')\n",
    "    plt.title('Loss')\n",
    "    plt.legend(loc='upper right')\n",
    "    plt.ylabel('Loss')\n",
    "    plt.xlabel('epoch')\n",
    "    plt.grid()\n",
    "    plt.show();"
   ]
  },
  {
   "cell_type": "code",
   "execution_count": 24,
   "metadata": {},
   "outputs": [
    {
     "data": {
      "image/png": "[encoded data removed]",
      "text/plain": [
       "<Figure size 1008x432 with 1 Axes>"
      ]
     },
     "metadata": {
      "needs_background": "light"
     },
     "output_type": "display_data"
    }
   ],
   "source": [
    "plot_loss(history)"
   ]
  },
  {
   "cell_type": "code",
   "execution_count": 25,
   "metadata": {},
   "outputs": [],
   "source": [
    "def plot_auc(hist):\n",
    "    plt.figure(figsize=(14,6))\n",
    "    \n",
    "    plt.plot(hist.history['auc'], label='Training auc')\n",
    "    plt.plot(hist.history['val_auc'], label='Validation auc')\n",
    "    plt.title('AUC')\n",
    "    plt.legend(loc='upper right')\n",
    "    plt.ylabel('auc')\n",
    "    plt.xlabel('epoch')\n",
    "    plt.grid()\n",
    "    plt.show();"
   ]
  },
  {
   "cell_type": "code",
   "execution_count": 26,
   "metadata": {},
   "outputs": [
    {
     "data": {
      "image/png": "[encoded data removed]",
      "text/plain": [
       "<Figure size 1008x432 with 1 Axes>"
      ]
     },
     "metadata": {
      "needs_background": "light"
     },
     "output_type": "display_data"
    }
   ],
   "source": [
    "plot_auc(history)"
   ]
  },
  {
   "cell_type": "code",
   "execution_count": 27,
   "metadata": {},
   "outputs": [
    {
     "name": "stdout",
     "output_type": "stream",
     "text": [
      "5/5 [==============================] - 0s 2ms/step - loss: 0.0319 - auc: 0.8959\n"
     ]
    },
    {
     "data": {
      "text/plain": [
       "[0.03187238797545433, 0.8958805799484253]"
      ]
     },
     "execution_count": 27,
     "metadata": {},
     "output_type": "execute_result"
    }
   ],
   "source": [
    "# valuto l'AUC sul dataset di test\n",
    "X_test_scaled = sc.transform(X_test)\n",
    "\n",
    "model.evaluate(X_test_scaled, y_test)"
   ]
  },
  {
   "cell_type": "code",
   "execution_count": null,
   "metadata": {},
   "outputs": [],
   "source": [
    "# AUC: 0.8959"
   ]
  },
  {
   "cell_type": "markdown",
   "metadata": {},
   "source": [
    "### Cross Validation"
   ]
  },
  {
   "cell_type": "code",
   "execution_count": 28,
   "metadata": {},
   "outputs": [
    {
     "name": "stdout",
     "output_type": "stream",
     "text": [
      "*** Fold num.  1\n",
      "Elapsed time (sec):  5.4\n",
      "Train AUC:  0.8284\n",
      "Validation AUC:  0.8406\n",
      "Test AUC:  0.9029\n",
      "\n",
      "*** Fold num.  2\n",
      "Elapsed time (sec):  5.4\n",
      "Train AUC:  0.8492\n",
      "Validation AUC:  0.7686\n",
      "Test AUC:  0.9036\n",
      "\n",
      "*** Fold num.  3\n",
      "Elapsed time (sec):  5.4\n",
      "Train AUC:  0.8525\n",
      "Validation AUC:  0.8105\n",
      "Test AUC:  0.8927\n",
      "\n",
      "*** Fold num.  4\n",
      "Elapsed time (sec):  5.7\n",
      "Train AUC:  0.8394\n",
      "Validation AUC:  0.8203\n",
      "Test AUC:  0.8441\n",
      "\n",
      "*** Fold num.  5\n",
      "Elapsed time (sec):  5.4\n",
      "Train AUC:  0.8398\n",
      "Validation AUC:  0.8759\n",
      "Test AUC:  0.8959\n",
      "\n",
      "*** Fold num.  6\n",
      "Elapsed time (sec):  5.5\n",
      "Train AUC:  0.8302\n",
      "Validation AUC:  0.8805\n",
      "Test AUC:  0.9097\n",
      "\n",
      "*** Fold num.  7\n",
      "Elapsed time (sec):  5.4\n",
      "Train AUC:  0.8762\n",
      "Validation AUC:  0.7682\n",
      "Test AUC:  0.9242\n",
      "\n",
      "*** Fold num.  8\n",
      "Elapsed time (sec):  5.7\n",
      "Train AUC:  0.8228\n",
      "Validation AUC:  0.745\n",
      "Test AUC:  0.8883\n",
      "\n",
      "*** Fold num.  9\n",
      "Elapsed time (sec):  5.4\n",
      "Train AUC:  0.8651\n",
      "Validation AUC:  0.6257\n",
      "Test AUC:  0.9048\n",
      "\n",
      "*** Fold num.  10\n",
      "Elapsed time (sec):  5.5\n",
      "Train AUC:  0.8453\n",
      "Validation AUC:  0.8789\n",
      "Test AUC:  0.9144\n",
      "\n",
      "*** Fold num.  11\n",
      "Elapsed time (sec):  5.5\n",
      "Train AUC:  0.8522\n",
      "Validation AUC:  0.8064\n",
      "Test AUC:  0.9029\n",
      "\n"
     ]
    }
   ],
   "source": [
    "# imposto la cross validation\n",
    "FOLDS = 11\n",
    "VERBOSE = 0\n",
    "\n",
    "histories = []\n",
    "vet_test_auc = []\n",
    "\n",
    "# questo è un approccio tipicamente utilizzato nelle competizioni di Kaggle\n",
    "#\n",
    "skf = KFold(n_splits = FOLDS, shuffle = True, random_state=1234)\n",
    "\n",
    "for fold,(idxT,idxV) in enumerate(skf.split(X_dev_scaled, y_dev)):\n",
    "    print('*** Fold num. ', fold + 1)\n",
    "    \n",
    "    tStart = time.time()\n",
    "    \n",
    "    # definisco i dataset di train e validation per questo fold\n",
    "    # idxT e idxV sono gli indici da utilizzare\n",
    "    fold_x_train = X_dev_scaled[idxT]\n",
    "    fold_y_train = y_dev[idxT]\n",
    "    \n",
    "    fold_x_valid = X_dev_scaled[idxV]\n",
    "    fold_y_valid = y_dev[idxV]\n",
    "    \n",
    "    K.clear_session()\n",
    "    \n",
    "    with strategy.scope():\n",
    "        model = build_model(56, 40)\n",
    "    \n",
    "    # callback to save best model for each fold\n",
    "    sv = tf.keras.callbacks.ModelCheckpoint(\n",
    "        'fold-%i.h5'%fold, monitor='val_loss', verbose=VERBOSE, save_best_only=True,\n",
    "        save_weights_only=True, mode='min', save_freq='epoch')\n",
    "    \n",
    "    history = model.fit(fold_x_train, fold_y_train, epochs = 30, verbose = VERBOSE, validation_data = (fold_x_valid, fold_y_valid), callbacks = [sv])\n",
    "    \n",
    "    # salvo la history relativa al fold per analisi successive\n",
    "    histories.append(history)\n",
    "    \n",
    "    max_train_auc = np.max(history.history['auc'])\n",
    "    max_valid_auc = np.max(history.history['val_auc'])\n",
    "    \n",
    "    # valuto il modello su test\n",
    "    test_loss, test_auc = model.evaluate(X_test_scaled, y_test, verbose = VERBOSE)\n",
    "    \n",
    "    tEnd = time.time()\n",
    "    \n",
    "    print('Elapsed time (sec): ', round((tEnd - tStart),1))\n",
    "    print('Train AUC: ', round(max_train_auc, 4))\n",
    "    print('Validation AUC: ', round(max_valid_auc, 4))\n",
    "    print('Test AUC: ', round(test_auc, 4))\n",
    "    print('')\n",
    "    \n",
    "    vet_test_auc.append(test_auc)"
   ]
  },
  {
   "cell_type": "code",
   "execution_count": null,
   "metadata": {},
   "outputs": [],
   "source": [
    "# dall'output si vede chiaramente che i valori di AUC dipendono dal fold (e quindi da come è scelto il validation set)\n",
    "# facendo una media sugli 11 folds si ottiene un'accuratezza maggiore (ed un indicazione sulla varianza)"
   ]
  },
  {
   "cell_type": "code",
   "execution_count": 30,
   "metadata": {},
   "outputs": [
    {
     "name": "stdout",
     "output_type": "stream",
     "text": [
      "Loading the best (val_auc) model of the fold...\n",
      "Test AUC:  0.9029\n",
      "\n",
      "Loading the best (val_auc) model of the fold...\n",
      "Test AUC:  0.8995\n",
      "\n",
      "Loading the best (val_auc) model of the fold...\n",
      "Test AUC:  0.904\n",
      "\n",
      "Loading the best (val_auc) model of the fold...\n",
      "Test AUC:  0.8441\n",
      "\n",
      "Loading the best (val_auc) model of the fold...\n",
      "Test AUC:  0.8959\n",
      "\n",
      "Loading the best (val_auc) model of the fold...\n",
      "Test AUC:  0.9097\n",
      "\n",
      "Loading the best (val_auc) model of the fold...\n",
      "Test AUC:  0.915\n",
      "\n",
      "Loading the best (val_auc) model of the fold...\n",
      "Test AUC:  0.8883\n",
      "\n",
      "Loading the best (val_auc) model of the fold...\n",
      "Test AUC:  0.9101\n",
      "\n",
      "Loading the best (val_auc) model of the fold...\n",
      "Test AUC:  0.9144\n",
      "\n",
      "Loading the best (val_auc) model of the fold...\n",
      "Test AUC:  0.8964\n",
      "\n",
      "Average test AUC (with std deviation):  0.8982  +/- 0.0188\n"
     ]
    }
   ],
   "source": [
    "# post processing\n",
    "\n",
    "vet_test_auc = []\n",
    "\n",
    "for fold in range(0, FOLDS):\n",
    "    # post processing\n",
    "    print('Loading the best (val_auc) model of the fold...')\n",
    "    model.load_weights('fold-%i.h5'%fold)\n",
    "    \n",
    "     # valuto il modello su test\n",
    "    test_loss, test_auc = model.evaluate(X_test_scaled, y_test, verbose = VERBOSE)\n",
    "    \n",
    "    print('Test AUC: ', round(test_auc, 4))\n",
    "    print('')\n",
    "    \n",
    "    vet_test_auc.append(test_auc)\n",
    "    \n",
    "    \n",
    "avg_auc = np.mean(np.array(vet_test_auc))\n",
    "std_auc = np.std(np.array(vet_test_auc))\n",
    "print('Average test AUC (with std deviation): ', round(avg_auc, 4), ' +/-', round(std_auc, 4))"
   ]
  },
  {
   "cell_type": "markdown",
   "metadata": {},
   "source": [
    "### Hyper parameter optimization"
   ]
  },
  {
   "cell_type": "code",
   "execution_count": null,
   "metadata": {},
   "outputs": [],
   "source": [
    "#\n",
    "# codice per la ricerca dei valori ottimali di n1, n2\n",
    "#"
   ]
  },
  {
   "cell_type": "code",
   "execution_count": null,
   "metadata": {},
   "outputs": [],
   "source": [
    "\n",
    "seed(1234)\n",
    "\n",
    "tf.random.set_seed(1234)\n",
    "\n",
    "FOLDS = 11\n",
    "VERBOSE = 0\n",
    "\n",
    "# gliglia di ricerca (è limitata per restringere il tempo)\n",
    "vet_n1 = [48, 56, 64, 72, 80]\n",
    "vet_n2 = [40, 48, 56, 64]\n",
    "\n",
    "for n1 in vet_n1:\n",
    "    for n2 in vet_n2:\n",
    "        \n",
    "        print('Elaborazione per parametri: ', n1, ',', n2)\n",
    "        vet_test_auc = []\n",
    "        \n",
    "        skf = KFold(n_splits = FOLDS, shuffle = True, random_state=1234)\n",
    "\n",
    "        for fold,(idxT,idxV) in enumerate(skf.split(X_dev_scaled, y_dev)):\n",
    "            \n",
    "            # definisco i dataset di train e validation per questo fold\n",
    "            fold_x_train = X_dev_scaled[idxT]\n",
    "            fold_y_train = y_dev[idxT]\n",
    "    \n",
    "            fold_x_valid = X_dev_scaled[idxV]\n",
    "            fold_y_valid = y_dev[idxV]\n",
    "    \n",
    "            K.clear_session()\n",
    "    \n",
    "            with strategy.scope():\n",
    "                model = build_model(n1, n2)\n",
    "        \n",
    "            history = model.fit(fold_x_train, fold_y_train, epochs = 30, verbose = VERBOSE, validation_data = (fold_x_valid, fold_y_valid), batch_size=64)\n",
    "    \n",
    "            # valuto il modello su test\n",
    "            test_loss, test_auc = model.evaluate(X_test_scaled, y_test, verbose = VERBOSE, batch_size=64)\n",
    "    \n",
    "            tEnd = time.time()\n",
    "    \n",
    "            vet_test_auc.append(test_auc)\n",
    "        \n",
    "        # calcola avg_test_auc per i parametri (n1, n2)\n",
    "        avg_auc = np.mean(np.array(vet_test_auc))\n",
    "        std_auc = np.std(np.array(vet_test_auc))\n",
    "        print('Avg test AUC: ', round(avg_auc, 4), ' +/-', round(std_auc, 4))\n",
    "        print('')"
   ]
  },
  {
   "cell_type": "markdown",
   "metadata": {},
   "source": [
    "### Curva ROC"
   ]
  },
  {
   "cell_type": "code",
   "execution_count": 33,
   "metadata": {},
   "outputs": [],
   "source": [
    "# prendo il modello di uno dei fold: scelgo fold 10\n",
    "# carico i pesi dal file\n",
    "model.load_weights('fold-9.h5')"
   ]
  },
  {
   "cell_type": "code",
   "execution_count": 34,
   "metadata": {},
   "outputs": [],
   "source": [
    "y_pred = model.predict(X_test_scaled)"
   ]
  },
  {
   "cell_type": "code",
   "execution_count": 36,
   "metadata": {},
   "outputs": [],
   "source": [
    "from sklearn.metrics import roc_curve\n",
    "\n",
    "fpr, tpr, _ = roc_curve(y_test, y_pred)"
   ]
  },
  {
   "cell_type": "code",
   "execution_count": 42,
   "metadata": {},
   "outputs": [
    {
     "data": {
      "image/png": "[encoded data removed]",
      "text/plain": [
       "<Figure size 576x576 with 1 Axes>"
      ]
     },
     "metadata": {
      "needs_background": "light"
     },
     "output_type": "display_data"
    }
   ],
   "source": [
    "plt.figure(figsize=(8,8))\n",
    "plt.title('ROC')\n",
    "plt.xlabel('fpr')\n",
    "plt.ylabel('tpr')\n",
    "plt.plot(fpr, tpr)\n",
    "plt.grid()\n",
    "plt.show()"
   ]
  },
  {
   "cell_type": "code",
   "execution_count": 84,
   "metadata": {},
   "outputs": [
    {
     "data": {
      "text/plain": [
       "array([[3.200e+01, 4.870e+03, 2.500e+01, ..., 1.000e+00, 0.000e+00,\n",
       "        0.000e+00],\n",
       "       [4.100e+01, 2.430e+03, 2.000e+00, ..., 0.000e+00, 0.000e+00,\n",
       "        1.000e+00],\n",
       "       [3.000e+01, 2.022e+03, 9.000e+00, ..., 0.000e+00, 0.000e+00,\n",
       "        0.000e+00],\n",
       "       ...,\n",
       "       [3.000e+01, 2.632e+03, 2.100e+01, ..., 0.000e+00, 0.000e+00,\n",
       "        1.000e+00],\n",
       "       [4.700e+01, 2.596e+03, 8.000e+00, ..., 0.000e+00, 0.000e+00,\n",
       "        1.000e+00],\n",
       "       [2.200e+01, 4.512e+03, 2.000e+00, ..., 1.000e+00, 1.000e+00,\n",
       "        0.000e+00]])"
      ]
     },
     "execution_count": 84,
     "metadata": {},
     "output_type": "execute_result"
    }
   ],
   "source": [
    "X_dev"
   ]
  },
  {
   "cell_type": "code",
   "execution_count": 95,
   "metadata": {},
   "outputs": [],
   "source": [
    "# modello con embedded normalization\n",
    "\n",
    "def build_model2(n1, n2):\n",
    "    \n",
    "    norm = tf.keras.layers.experimental.preprocessing.Normalization()\n",
    "    norm.adapt(X_dev)\n",
    "    \n",
    "    inputs = tf.keras.layers.Input(shape=(55,))\n",
    "    \n",
    "    outputs = norm(inputs)\n",
    "    \n",
    "    model = tf.keras.Model(inputs=inputs, outputs=outputs, name=\"model2\")\n",
    "    \n",
    "    model.compile(optimizer='adam', loss=[focal_loss], metrics=['AUC'])\n",
    "    \n",
    "    return model"
   ]
  },
  {
   "cell_type": "code",
   "execution_count": 96,
   "metadata": {},
   "outputs": [],
   "source": [
    "model = build_model2(56, 40)"
   ]
  },
  {
   "cell_type": "code",
   "execution_count": 81,
   "metadata": {},
   "outputs": [
    {
     "data": {
      "text/plain": [
       "array([[3.200e+01, 4.870e+03, 2.500e+01, ..., 1.000e+00, 0.000e+00,\n",
       "        0.000e+00],\n",
       "       [4.100e+01, 2.430e+03, 2.000e+00, ..., 0.000e+00, 0.000e+00,\n",
       "        1.000e+00],\n",
       "       [3.000e+01, 2.022e+03, 9.000e+00, ..., 0.000e+00, 0.000e+00,\n",
       "        0.000e+00],\n",
       "       ...,\n",
       "       [3.000e+01, 2.632e+03, 2.100e+01, ..., 0.000e+00, 0.000e+00,\n",
       "        1.000e+00],\n",
       "       [4.700e+01, 2.596e+03, 8.000e+00, ..., 0.000e+00, 0.000e+00,\n",
       "        1.000e+00],\n",
       "       [2.200e+01, 4.512e+03, 2.000e+00, ..., 1.000e+00, 1.000e+00,\n",
       "        0.000e+00]])"
      ]
     },
     "execution_count": 81,
     "metadata": {},
     "output_type": "execute_result"
    }
   ],
   "source": [
    "X_dev"
   ]
  },
  {
   "cell_type": "code",
   "execution_count": 73,
   "metadata": {},
   "outputs": [
    {
     "data": {
      "text/plain": [
       "<tf.Tensor: shape=(3, 1), dtype=float32, numpy=\n",
       "array([[-1.4142135 ],\n",
       "       [-0.70710677],\n",
       "       [ 0.        ]], dtype=float32)>"
      ]
     },
     "execution_count": 73,
     "metadata": {},
     "output_type": "execute_result"
    }
   ],
   "source": [
    "adapt_data = np.array([[1.], [2.], [3.], [4.], [5.]], dtype=np.float32)\n",
    "input_data = np.array([[1.], [2.], [3.]], np.float32)\n",
    "layer = tf.keras.layers.experimental.preprocessing.Normalization()\n",
    "layer.adapt(adapt_data)\n",
    "layer(input_data)"
   ]
  },
  {
   "cell_type": "code",
   "execution_count": 74,
   "metadata": {},
   "outputs": [
    {
     "data": {
      "text/plain": [
       "array([[  32, 4870,   25, ...,    1,    0,    0],\n",
       "       [  41, 2430,    2, ...,    0,    0,    1],\n",
       "       [  30, 2022,    9, ...,    0,    0,    0],\n",
       "       ...,\n",
       "       [  30, 2632,   21, ...,    0,    0,    1],\n",
       "       [  47, 2596,    8, ...,    0,    0,    1],\n",
       "       [  22, 4512,    2, ...,    1,    1,    0]])"
      ]
     },
     "execution_count": 74,
     "metadata": {},
     "output_type": "execute_result"
    }
   ],
   "source": [
    "X_dev"
   ]
  },
  {
   "cell_type": "code",
   "execution_count": null,
   "metadata": {},
   "outputs": [],
   "source": []
  }
 ],
 "metadata": {
  "kernelspec": {
   "display_name": "Python 3",
   "language": "python",
   "name": "python3"
  },
  "language_info": {
   "codemirror_mode": {
    "name": "ipython",
    "version": 3
   },
   "file_extension": ".py",
   "mimetype": "text/x-python",
   "name": "python",
   "nbconvert_exporter": "python",
   "pygments_lexer": "ipython3",
   "version": "3.6.10"
  }
 },
 "nbformat": 4,
 "nbformat_minor": 4
}
